{
  "nbformat": 4,
  "nbformat_minor": 0,
  "metadata": {
    "colab": {
      "provenance": []
    },
    "kernelspec": {
      "name": "python3",
      "display_name": "Python 3"
    },
    "language_info": {
      "name": "python"
    }
  },
  "cells": [
    {
      "cell_type": "code",
      "source": [
        "pip install web3"
      ],
      "metadata": {
        "colab": {
          "base_uri": "https://localhost:8080/",
          "height": 1000
        },
        "id": "ILwzClrgsg5Q",
        "outputId": "48f16330-06ce-4d13-eba7-4f5bda5db59f"
      },
      "execution_count": 1,
      "outputs": [
        {
          "output_type": "stream",
          "name": "stdout",
          "text": [
            "Looking in indexes: https://pypi.org/simple, https://us-python.pkg.dev/colab-wheels/public/simple/\n",
            "Collecting web3\n",
            "  Downloading web3-5.31.3-py3-none-any.whl (501 kB)\n",
            "\u001b[K     |████████████████████████████████| 501 kB 14.5 MB/s \n",
            "\u001b[?25hCollecting ipfshttpclient==0.8.0a2\n",
            "  Downloading ipfshttpclient-0.8.0a2-py3-none-any.whl (82 kB)\n",
            "\u001b[K     |████████████████████████████████| 82 kB 755 kB/s \n",
            "\u001b[?25hRequirement already satisfied: aiohttp<4,>=3.7.4.post0 in /usr/local/lib/python3.8/dist-packages (from web3) (3.8.3)\n",
            "Collecting eth-rlp<0.3\n",
            "  Downloading eth_rlp-0.2.1-py3-none-any.whl (5.0 kB)\n",
            "Collecting eth-hash[pycryptodome]<1.0.0,>=0.2.0\n",
            "  Downloading eth_hash-0.5.1-py3-none-any.whl (9.0 kB)\n",
            "Collecting lru-dict<2.0.0,>=1.1.6\n",
            "  Downloading lru_dict-1.1.8-cp38-cp38-manylinux_2_5_x86_64.manylinux1_x86_64.manylinux_2_17_x86_64.manylinux2014_x86_64.whl (29 kB)\n",
            "Collecting eth-typing<3.0.0,>=2.0.0\n",
            "  Downloading eth_typing-2.3.0-py3-none-any.whl (6.2 kB)\n",
            "Collecting websockets<10,>=9.1\n",
            "  Downloading websockets-9.1-cp38-cp38-manylinux2010_x86_64.whl (102 kB)\n",
            "\u001b[K     |████████████████████████████████| 102 kB 10.3 MB/s \n",
            "\u001b[?25hRequirement already satisfied: requests<3.0.0,>=2.16.0 in /usr/local/lib/python3.8/dist-packages (from web3) (2.23.0)\n",
            "Collecting eth-account<0.6.0,>=0.5.9\n",
            "  Downloading eth_account-0.5.9-py3-none-any.whl (101 kB)\n",
            "\u001b[K     |████████████████████████████████| 101 kB 8.6 MB/s \n",
            "\u001b[?25hRequirement already satisfied: jsonschema<5,>=3.2.0 in /usr/local/lib/python3.8/dist-packages (from web3) (4.3.3)\n",
            "Collecting protobuf==3.19.5\n",
            "  Downloading protobuf-3.19.5-cp38-cp38-manylinux_2_17_x86_64.manylinux2014_x86_64.whl (1.1 MB)\n",
            "\u001b[K     |████████████████████████████████| 1.1 MB 91.5 MB/s \n",
            "\u001b[?25hCollecting eth-abi<3.0.0,>=2.2.0\n",
            "  Downloading eth_abi-2.2.0-py3-none-any.whl (28 kB)\n",
            "Collecting eth-utils<2.0.0,>=1.9.5\n",
            "  Downloading eth_utils-1.10.0-py3-none-any.whl (24 kB)\n",
            "Collecting hexbytes<1.0.0,>=0.1.0\n",
            "  Downloading hexbytes-0.3.0-py3-none-any.whl (6.4 kB)\n",
            "Collecting multiaddr>=0.0.7\n",
            "  Downloading multiaddr-0.0.9-py2.py3-none-any.whl (16 kB)\n",
            "Requirement already satisfied: attrs>=17.3.0 in /usr/local/lib/python3.8/dist-packages (from aiohttp<4,>=3.7.4.post0->web3) (22.1.0)\n",
            "Requirement already satisfied: multidict<7.0,>=4.5 in /usr/local/lib/python3.8/dist-packages (from aiohttp<4,>=3.7.4.post0->web3) (6.0.3)\n",
            "Requirement already satisfied: aiosignal>=1.1.2 in /usr/local/lib/python3.8/dist-packages (from aiohttp<4,>=3.7.4.post0->web3) (1.3.1)\n",
            "Requirement already satisfied: yarl<2.0,>=1.0 in /usr/local/lib/python3.8/dist-packages (from aiohttp<4,>=3.7.4.post0->web3) (1.8.2)\n",
            "Requirement already satisfied: frozenlist>=1.1.1 in /usr/local/lib/python3.8/dist-packages (from aiohttp<4,>=3.7.4.post0->web3) (1.3.3)\n",
            "Requirement already satisfied: charset-normalizer<3.0,>=2.0 in /usr/local/lib/python3.8/dist-packages (from aiohttp<4,>=3.7.4.post0->web3) (2.1.1)\n",
            "Requirement already satisfied: async-timeout<5.0,>=4.0.0a3 in /usr/local/lib/python3.8/dist-packages (from aiohttp<4,>=3.7.4.post0->web3) (4.0.2)\n",
            "Collecting parsimonious<0.9.0,>=0.8.0\n",
            "  Downloading parsimonious-0.8.1.tar.gz (45 kB)\n",
            "\u001b[K     |████████████████████████████████| 45 kB 3.0 MB/s \n",
            "\u001b[?25hCollecting eth-keyfile<0.6.0,>=0.5.0\n",
            "  Downloading eth_keyfile-0.5.1-py3-none-any.whl (8.3 kB)\n",
            "Collecting bitarray<3,>=1.2.1\n",
            "  Downloading bitarray-2.6.1-cp38-cp38-manylinux_2_17_x86_64.manylinux2014_x86_64.whl (241 kB)\n",
            "\u001b[K     |████████████████████████████████| 241 kB 83.9 MB/s \n",
            "\u001b[?25hCollecting eth-keys<0.4.0,>=0.3.4\n",
            "  Downloading eth_keys-0.3.4-py3-none-any.whl (21 kB)\n",
            "Collecting rlp<3,>=1.0.0\n",
            "  Downloading rlp-2.0.1-py2.py3-none-any.whl (20 kB)\n",
            "Collecting pycryptodome<4,>=3.6.6\n",
            "  Downloading pycryptodome-3.16.0-cp35-abi3-manylinux_2_5_x86_64.manylinux1_x86_64.manylinux_2_12_x86_64.manylinux2010_x86_64.whl (2.3 MB)\n",
            "\u001b[K     |████████████████████████████████| 2.3 MB 55.9 MB/s \n",
            "\u001b[?25hCollecting cytoolz<1.0.0,>=0.9.0\n",
            "  Downloading cytoolz-0.12.1-cp38-cp38-manylinux_2_17_x86_64.manylinux2014_x86_64.whl (1.8 MB)\n",
            "\u001b[K     |████████████████████████████████| 1.8 MB 53.1 MB/s \n",
            "\u001b[?25hRequirement already satisfied: toolz>=0.8.0 in /usr/local/lib/python3.8/dist-packages (from cytoolz<1.0.0,>=0.9.0->eth-keyfile<0.6.0,>=0.5.0->eth-account<0.6.0,>=0.5.9->web3) (0.12.0)\n",
            "Collecting eth-utils<2.0.0,>=1.9.5\n",
            "  Downloading eth_utils-1.9.5-py3-none-any.whl (23 kB)\n",
            "Requirement already satisfied: pyrsistent!=0.17.0,!=0.17.1,!=0.17.2,>=0.14.0 in /usr/local/lib/python3.8/dist-packages (from jsonschema<5,>=3.2.0->web3) (0.19.2)\n",
            "Requirement already satisfied: importlib-resources>=1.4.0 in /usr/local/lib/python3.8/dist-packages (from jsonschema<5,>=3.2.0->web3) (5.10.1)\n",
            "Requirement already satisfied: zipp>=3.1.0 in /usr/local/lib/python3.8/dist-packages (from importlib-resources>=1.4.0->jsonschema<5,>=3.2.0->web3) (3.11.0)\n",
            "Collecting varint\n",
            "  Downloading varint-1.0.2.tar.gz (1.9 kB)\n",
            "Collecting base58\n",
            "  Downloading base58-2.1.1-py3-none-any.whl (5.6 kB)\n",
            "Requirement already satisfied: six in /usr/local/lib/python3.8/dist-packages (from multiaddr>=0.0.7->ipfshttpclient==0.8.0a2->web3) (1.15.0)\n",
            "Collecting netaddr\n",
            "  Downloading netaddr-0.8.0-py2.py3-none-any.whl (1.9 MB)\n",
            "\u001b[K     |████████████████████████████████| 1.9 MB 47.6 MB/s \n",
            "\u001b[?25hRequirement already satisfied: chardet<4,>=3.0.2 in /usr/local/lib/python3.8/dist-packages (from requests<3.0.0,>=2.16.0->web3) (3.0.4)\n",
            "Requirement already satisfied: certifi>=2017.4.17 in /usr/local/lib/python3.8/dist-packages (from requests<3.0.0,>=2.16.0->web3) (2022.12.7)\n",
            "Requirement already satisfied: idna<3,>=2.5 in /usr/local/lib/python3.8/dist-packages (from requests<3.0.0,>=2.16.0->web3) (2.10)\n",
            "Requirement already satisfied: urllib3!=1.25.0,!=1.25.1,<1.26,>=1.21.1 in /usr/local/lib/python3.8/dist-packages (from requests<3.0.0,>=2.16.0->web3) (1.24.3)\n",
            "Building wheels for collected packages: parsimonious, varint\n",
            "  Building wheel for parsimonious (setup.py) ... \u001b[?25l\u001b[?25hdone\n",
            "  Created wheel for parsimonious: filename=parsimonious-0.8.1-py3-none-any.whl size=42725 sha256=1d5a87b2a56db06be2ef53b2b5d404cd7e7e08e53217a7f198c40d7aa27d6a86\n",
            "  Stored in directory: /root/.cache/pip/wheels/d8/af/19/fb896f509a437aca2dcf62583e84d7fb2cd5b628c1564a609c\n",
            "  Building wheel for varint (setup.py) ... \u001b[?25l\u001b[?25hdone\n",
            "  Created wheel for varint: filename=varint-1.0.2-py3-none-any.whl size=1978 sha256=0e288eab5d6cde99198b1711136026e4a0c4d2cbc5d2ffa22dda942bf51643b4\n",
            "  Stored in directory: /root/.cache/pip/wheels/cc/a8/a4/4d9e9807c27585dc974fc0e86a3e4345649d71f8a35906d1a8\n",
            "Successfully built parsimonious varint\n",
            "Installing collected packages: eth-typing, eth-hash, cytoolz, eth-utils, varint, rlp, pycryptodome, parsimonious, netaddr, hexbytes, eth-keys, base58, multiaddr, eth-rlp, eth-keyfile, eth-abi, bitarray, websockets, protobuf, lru-dict, ipfshttpclient, eth-account, web3\n",
            "  Attempting uninstall: protobuf\n",
            "    Found existing installation: protobuf 3.19.6\n",
            "    Uninstalling protobuf-3.19.6:\n",
            "      Successfully uninstalled protobuf-3.19.6\n",
            "Successfully installed base58-2.1.1 bitarray-2.6.1 cytoolz-0.12.1 eth-abi-2.2.0 eth-account-0.5.9 eth-hash-0.5.1 eth-keyfile-0.5.1 eth-keys-0.3.4 eth-rlp-0.2.1 eth-typing-2.3.0 eth-utils-1.9.5 hexbytes-0.3.0 ipfshttpclient-0.8.0a2 lru-dict-1.1.8 multiaddr-0.0.9 netaddr-0.8.0 parsimonious-0.8.1 protobuf-3.19.5 pycryptodome-3.16.0 rlp-2.0.1 varint-1.0.2 web3-5.31.3 websockets-9.1\n"
          ]
        },
        {
          "output_type": "display_data",
          "data": {
            "application/vnd.colab-display-data+json": {
              "pip_warning": {
                "packages": [
                  "google"
                ]
              }
            }
          },
          "metadata": {}
        }
      ]
    },
    {
      "cell_type": "code",
      "source": [
        "from google.colab import drive, files\n",
        "drive.mount('/content/drive/')"
      ],
      "metadata": {
        "colab": {
          "base_uri": "https://localhost:8080/"
        },
        "id": "r_Gq39hnwHAf",
        "outputId": "ccab2f68-7501-47e1-d35f-8b5218989403"
      },
      "execution_count": 1,
      "outputs": [
        {
          "output_type": "stream",
          "name": "stdout",
          "text": [
            "Mounted at /content/drive/\n"
          ]
        }
      ]
    },
    {
      "cell_type": "code",
      "metadata": {
        "id": "G8uGXseRpDQT"
      },
      "source": [
        "import numpy as np # linear algebra\n",
        "import pandas as pd # data processing, CSV file I/O (e.g. pd.read_csv)\n",
        "from sklearn.model_selection import train_test_split #to split the dataset for training and testing\n",
        "from sklearn.neural_network import MLPClassifier #Importing MLPClassifier for classification.\n",
        "from sklearn import metrics\n",
        "import seaborn as sns\n",
        "import matplotlib.pyplot as plt\n",
        "from sklearn.metrics import confusion_matrix\n",
        "import json\n",
        "from web3 import Web3\n",
        "import os\n",
        "import datetime;\n",
        "from datetime import datetime "
      ],
      "execution_count": 38,
      "outputs": []
    },
    {
      "cell_type": "code",
      "source": [
        "# add your blockchain connection information\n",
        "infura_url = 'https://goerli.infura.io/v3/5ff13871021244b79ad9642b2f6499e3'\n",
        "web3 = Web3(Web3.HTTPProvider(infura_url))\n",
        "chain_id = 5\n",
        "\n",
        "account = \"0xc144cD60Be02F5d5C6CFfcb56DcE32D99097Afb9\"\n",
        "private_key = '3cd656d14571c2f3c39b97dc273060f7653ec6c2fbbb916e717b4e9f1e28f147'\n",
        "\n",
        "#contract address and abi\n",
        "contract_Address = '0x2CA423aBcE1E263aa44E3c3A87e7a5EaD19bA481'\n",
        "contract_abi = json.loads('[ \t{ \t\t\"inputs\": [], \t\t\"name\": \"retrievePredicitons\", \t\t\"outputs\": [ \t\t\t{ \t\t\t\t\"components\": [ \t\t\t\t\t{ \t\t\t\t\t\t\"internalType\": \"string\", \t\t\t\t\t\t\"name\": \"prediction\", \t\t\t\t\t\t\"type\": \"string\" \t\t\t\t\t}, \t\t\t\t\t{ \t\t\t\t\t\t\"internalType\": \"string\", \t\t\t\t\t\t\"name\": \"timeData\", \t\t\t\t\t\t\"type\": \"string\" \t\t\t\t\t} \t\t\t\t], \t\t\t\t\"internalType\": \"struct IA.Prediction[]\", \t\t\t\t\"name\": \"\", \t\t\t\t\"type\": \"tuple[]\" \t\t\t} \t\t], \t\t\"stateMutability\": \"view\", \t\t\"type\": \"function\" \t}, \t{ \t\t\"inputs\": [], \t\t\"name\": \"retrieveRecords\", \t\t\"outputs\": [ \t\t\t{ \t\t\t\t\"internalType\": \"string[]\", \t\t\t\t\"name\": \"\", \t\t\t\t\"type\": \"string[]\" \t\t\t} \t\t], \t\t\"stateMutability\": \"view\", \t\t\"type\": \"function\" \t}, \t{ \t\t\"inputs\": [ \t\t\t{ \t\t\t\t\"internalType\": \"string\", \t\t\t\t\"name\": \"_prediciton\", \t\t\t\t\"type\": \"string\" \t\t\t}, \t\t\t{ \t\t\t\t\"internalType\": \"string\", \t\t\t\t\"name\": \"_timeData\", \t\t\t\t\"type\": \"string\" \t\t\t} \t\t], \t\t\"name\": \"storePrediction\", \t\t\"outputs\": [], \t\t\"stateMutability\": \"nonpayable\", \t\t\"type\": \"function\" \t}, \t{ \t\t\"inputs\": [ \t\t\t{ \t\t\t\t\"internalType\": \"string[]\", \t\t\t\t\"name\": \"_records\", \t\t\t\t\"type\": \"string[]\" \t\t\t} \t\t], \t\t\"name\": \"storeRecords\", \t\t\"outputs\": [], \t\t\"stateMutability\": \"nonpayable\", \t\t\"type\": \"function\" \t} ]')\n",
        "\n",
        "contract = web3.eth.contract(address=contract_Address, abi=contract_abi)\n",
        "nonce = web3.eth.getTransactionCount(account)"
      ],
      "metadata": {
        "id": "U3bxR2IetJpY"
      },
      "execution_count": 53,
      "outputs": []
    },
    {
      "cell_type": "code",
      "source": [
        "def obterRegistros():\n",
        "    # Wait for transaction to be mined\n",
        "    transaction = contract.functions.retrieveRecords().call()\n",
        "    \n",
        "    return transaction"
      ],
      "metadata": {
        "id": "Fftx0PtL124Q"
      },
      "execution_count": 54,
      "outputs": []
    },
    {
      "cell_type": "code",
      "source": [
        "def enviarPredicao(_predicao, _timestamp):   \n",
        "    transaction = contract.functions.storePrediction(_predicao, _timestamp).buildTransaction(\n",
        "        {\n",
        "            \"gasPrice\": web3.eth.gas_price,\n",
        "            \"chainId\": chain_id,\n",
        "            \"from\": account,\n",
        "            \"nonce\": nonce \n",
        "        }\n",
        "    )\n",
        "    signed_transaction = web3.eth.account.sign_transaction(transaction, private_key = private_key)\n",
        "    transaction_hash = web3.eth.send_raw_transaction(signed_transaction.rawTransaction)\n",
        "    transaction_receipt = web3.eth.wait_for_transaction_receipt(transaction_hash)"
      ],
      "metadata": {
        "id": "gjpr3ewv199q"
      },
      "execution_count": 55,
      "outputs": []
    },
    {
      "cell_type": "code",
      "source": [
        "def obterPredicoes():\n",
        "    # Wait for transaction to be mined\n",
        "    transaction = contract.functions.retrievePredicitons().call()\n",
        "    \n",
        "    return transaction"
      ],
      "metadata": {
        "id": "_s-nA7pj5foE"
      },
      "execution_count": 56,
      "outputs": []
    },
    {
      "cell_type": "code",
      "source": [
        "arq = open(\"/content/drive/MyDrive/IA/temp.csv\",\"w\")\n",
        "\n",
        "for lnh in obterRegistros():\n",
        "    print(lnh)\n",
        "    arq.write(lnh)\n",
        "    arq.write(\"\\n\")\n",
        " \n",
        "arq.close()"
      ],
      "metadata": {
        "colab": {
          "base_uri": "https://localhost:8080/"
        },
        "id": "lF1ak5BH08FW",
        "outputId": "d4ce117d-840d-44b0-c0b8-4af1fccef9d3"
      },
      "execution_count": 57,
      "outputs": [
        {
          "output_type": "stream",
          "name": "stdout",
          "text": [
            "Id,SepalLengthCm,SepalWidthCm,PetalLengthCm,PetalWidthCm,Species\n",
            "\n",
            "1,5.1,3.5,1.4,0.2,Iris-setosa\n",
            "\n",
            "2,4.9,3.0,1.4,0.2,Iris-setosa\n",
            "\n",
            "3,4.7,3.2,1.3,0.2,Iris-setosa\n",
            "\n",
            "4,4.6,3.1,1.5,0.2,Iris-setosa\n",
            "\n",
            "5,5.0,3.6,1.4,0.2,Iris-setosa\n",
            "\n",
            "6,5.4,3.9,1.7,0.4,Iris-setosa\n",
            "\n",
            "7,4.6,3.4,1.4,0.3,Iris-setosa\n",
            "\n",
            "8,5.0,3.4,1.5,0.2,Iris-setosa\n",
            "\n",
            "9,4.4,2.9,1.4,0.2,Iris-setosa\n",
            "\n",
            "10,4.9,3.1,1.5,0.1,Iris-setosa\n",
            "\n",
            "11,5.4,3.7,1.5,0.2,Iris-setosa\n",
            "\n",
            "12,4.8,3.4,1.6,0.2,Iris-setosa\n",
            "\n",
            "13,4.8,3.0,1.4,0.1,Iris-setosa\n",
            "\n",
            "14,4.3,3.0,1.1,0.1,Iris-setosa\n",
            "\n",
            "15,5.8,4.0,1.2,0.2,Iris-setosa\n",
            "\n",
            "16,5.7,4.4,1.5,0.4,Iris-setosa\n",
            "\n",
            "17,5.4,3.9,1.3,0.4,Iris-setosa\n",
            "\n",
            "18,5.1,3.5,1.4,0.3,Iris-setosa\n",
            "\n",
            "19,5.7,3.8,1.7,0.3,Iris-setosa\n",
            "\n",
            "20,5.1,3.8,1.5,0.3,Iris-setosa\n",
            "\n",
            "21,5.4,3.4,1.7,0.2,Iris-setosa\n",
            "\n",
            "22,5.1,3.7,1.5,0.4,Iris-setosa\n",
            "\n",
            "23,4.6,3.6,1.0,0.2,Iris-setosa\n",
            "\n",
            "24,5.1,3.3,1.7,0.5,Iris-setosa\n",
            "\n",
            "25,4.8,3.4,1.9,0.2,Iris-setosa\n",
            "\n",
            "26,5.0,3.0,1.6,0.2,Iris-setosa\n",
            "\n",
            "27,5.0,3.4,1.6,0.4,Iris-setosa\n",
            "\n",
            "28,5.2,3.5,1.5,0.2,Iris-setosa\n",
            "\n",
            "29,5.2,3.4,1.4,0.2,Iris-setosa\n",
            "\n",
            "30,4.7,3.2,1.6,0.2,Iris-setosa\n",
            "\n",
            "31,4.8,3.1,1.6,0.2,Iris-setosa\n",
            "\n",
            "32,5.4,3.4,1.5,0.4,Iris-setosa\n",
            "\n",
            "33,5.2,4.1,1.5,0.1,Iris-setosa\n",
            "\n",
            "34,5.5,4.2,1.4,0.2,Iris-setosa\n",
            "\n",
            "35,4.9,3.1,1.5,0.1,Iris-setosa\n",
            "\n",
            "36,5.0,3.2,1.2,0.2,Iris-setosa\n",
            "\n",
            "37,5.5,3.5,1.3,0.2,Iris-setosa\n",
            "\n",
            "38,4.9,3.1,1.5,0.1,Iris-setosa\n",
            "\n",
            "39,4.4,3.0,1.3,0.2,Iris-setosa\n",
            "\n",
            "40,5.1,3.4,1.5,0.2,Iris-setosa\n",
            "\n",
            "41,5.0,3.5,1.3,0.3,Iris-setosa\n",
            "\n",
            "42,4.5,2.3,1.3,0.3,Iris-setosa\n",
            "\n",
            "43,4.4,3.2,1.3,0.2,Iris-setosa\n",
            "\n",
            "44,5.0,3.5,1.6,0.6,Iris-setosa\n",
            "\n",
            "45,5.1,3.8,1.9,0.4,Iris-setosa\n",
            "\n",
            "46,4.8,3.0,1.4,0.3,Iris-setosa\n",
            "\n",
            "47,5.1,3.8,1.6,0.2,Iris-setosa\n",
            "\n",
            "48,4.6,3.2,1.4,0.2,Iris-setosa\n",
            "\n",
            "49,5.3,3.7,1.5,0.2,Iris-setosa\n",
            "\n",
            "50,5.0,3.3,1.4,0.2,Iris-setosa\n",
            "\n",
            "51,7.0,3.2,4.7,1.4,Iris-versicolor\n",
            "\n",
            "52,6.4,3.2,4.5,1.5,Iris-versicolor\n",
            "\n",
            "53,6.9,3.1,4.9,1.5,Iris-versicolor\n",
            "\n",
            "54,5.5,2.3,4.0,1.3,Iris-versicolor\n",
            "\n",
            "55,6.5,2.8,4.6,1.5,Iris-versicolor\n",
            "\n",
            "56,5.7,2.8,4.5,1.3,Iris-versicolor\n",
            "\n",
            "57,6.3,3.3,4.7,1.6,Iris-versicolor\n",
            "\n",
            "58,4.9,2.4,3.3,1.0,Iris-versicolor\n",
            "\n",
            "59,6.6,2.9,4.6,1.3,Iris-versicolor\n",
            "\n",
            "60,5.2,2.7,3.9,1.4,Iris-versicolor\n",
            "\n",
            "61,5.0,2.0,3.5,1.0,Iris-versicolor\n",
            "\n",
            "62,5.9,3.0,4.2,1.5,Iris-versicolor\n",
            "\n",
            "63,6.0,2.2,4.0,1.0,Iris-versicolor\n",
            "\n",
            "64,6.1,2.9,4.7,1.4,Iris-versicolor\n",
            "\n",
            "65,5.6,2.9,3.6,1.3,Iris-versicolor\n",
            "\n",
            "66,6.7,3.1,4.4,1.4,Iris-versicolor\n",
            "\n",
            "67,5.6,3.0,4.5,1.5,Iris-versicolor\n",
            "\n",
            "68,5.8,2.7,4.1,1.0,Iris-versicolor\n",
            "\n",
            "69,6.2,2.2,4.5,1.5,Iris-versicolor\n",
            "\n",
            "70,5.6,2.5,3.9,1.1,Iris-versicolor\n",
            "\n",
            "71,5.9,3.2,4.8,1.8,Iris-versicolor\n",
            "\n",
            "72,6.1,2.8,4.0,1.3,Iris-versicolor\n",
            "\n",
            "73,6.3,2.5,4.9,1.5,Iris-versicolor\n",
            "\n",
            "74,6.1,2.8,4.7,1.2,Iris-versicolor\n",
            "\n",
            "75,6.4,2.9,4.3,1.3,Iris-versicolor\n",
            "\n",
            "76,6.6,3.0,4.4,1.4,Iris-versicolor\n",
            "\n",
            "77,6.8,2.8,4.8,1.4,Iris-versicolor\n",
            "\n",
            "78,6.7,3.0,5.0,1.7,Iris-versicolor\n",
            "\n",
            "79,6.0,2.9,4.5,1.5,Iris-versicolor\n",
            "\n",
            "80,5.7,2.6,3.5,1.0,Iris-versicolor\n",
            "\n",
            "81,5.5,2.4,3.8,1.1,Iris-versicolor\n",
            "\n",
            "82,5.5,2.4,3.7,1.0,Iris-versicolor\n",
            "\n",
            "83,5.8,2.7,3.9,1.2,Iris-versicolor\n",
            "\n",
            "84,6.0,2.7,5.1,1.6,Iris-versicolor\n",
            "\n",
            "85,5.4,3.0,4.5,1.5,Iris-versicolor\n",
            "\n",
            "86,6.0,3.4,4.5,1.6,Iris-versicolor\n",
            "\n",
            "87,6.7,3.1,4.7,1.5,Iris-versicolor\n",
            "\n",
            "88,6.3,2.3,4.4,1.3,Iris-versicolor\n",
            "\n",
            "89,5.6,3.0,4.1,1.3,Iris-versicolor\n",
            "\n",
            "90,5.5,2.5,4.0,1.3,Iris-versicolor\n",
            "\n",
            "91,5.5,2.6,4.4,1.2,Iris-versicolor\n",
            "\n",
            "92,6.1,3.0,4.6,1.4,Iris-versicolor\n",
            "\n",
            "93,5.8,2.6,4.0,1.2,Iris-versicolor\n",
            "\n",
            "94,5.0,2.3,3.3,1.0,Iris-versicolor\n",
            "\n",
            "95,5.6,2.7,4.2,1.3,Iris-versicolor\n",
            "\n",
            "96,5.7,3.0,4.2,1.2,Iris-versicolor\n",
            "\n",
            "97,5.7,2.9,4.2,1.3,Iris-versicolor\n",
            "\n",
            "98,6.2,2.9,4.3,1.3,Iris-versicolor\n",
            "\n",
            "99,5.1,2.5,3.0,1.1,Iris-versicolor\n",
            "\n",
            "100,5.7,2.8,4.1,1.3,Iris-versicolor\n",
            "\n",
            "101,6.3,3.3,6.0,2.5,Iris-virginica\n",
            "\n",
            "102,5.8,2.7,5.1,1.9,Iris-virginica\n",
            "\n",
            "103,7.1,3.0,5.9,2.1,Iris-virginica\n",
            "\n",
            "104,6.3,2.9,5.6,1.8,Iris-virginica\n",
            "\n",
            "105,6.5,3.0,5.8,2.2,Iris-virginica\n",
            "\n",
            "106,7.6,3.0,6.6,2.1,Iris-virginica\n",
            "\n",
            "107,4.9,2.5,4.5,1.7,Iris-virginica\n",
            "\n",
            "108,7.3,2.9,6.3,1.8,Iris-virginica\n",
            "\n",
            "109,6.7,2.5,5.8,1.8,Iris-virginica\n",
            "\n",
            "110,7.2,3.6,6.1,2.5,Iris-virginica\n",
            "\n",
            "111,6.5,3.2,5.1,2.0,Iris-virginica\n",
            "\n",
            "112,6.4,2.7,5.3,1.9,Iris-virginica\n",
            "\n",
            "113,6.8,3.0,5.5,2.1,Iris-virginica\n",
            "\n",
            "114,5.7,2.5,5.0,2.0,Iris-virginica\n",
            "\n",
            "115,5.8,2.8,5.1,2.4,Iris-virginica\n",
            "\n",
            "116,6.4,3.2,5.3,2.3,Iris-virginica\n",
            "\n",
            "117,6.5,3.0,5.5,1.8,Iris-virginica\n",
            "\n",
            "118,7.7,3.8,6.7,2.2,Iris-virginica\n",
            "\n",
            "119,7.7,2.6,6.9,2.3,Iris-virginica\n",
            "\n",
            "120,6.0,2.2,5.0,1.5,Iris-virginica\n",
            "\n",
            "121,6.9,3.2,5.7,2.3,Iris-virginica\n",
            "\n",
            "122,5.6,2.8,4.9,2.0,Iris-virginica\n",
            "\n",
            "123,7.7,2.8,6.7,2.0,Iris-virginica\n",
            "\n",
            "124,6.3,2.7,4.9,1.8,Iris-virginica\n",
            "\n",
            "125,6.7,3.3,5.7,2.1,Iris-virginica\n",
            "\n",
            "126,7.2,3.2,6.0,1.8,Iris-virginica\n",
            "\n",
            "127,6.2,2.8,4.8,1.8,Iris-virginica\n",
            "\n",
            "128,6.1,3.0,4.9,1.8,Iris-virginica\n",
            "\n",
            "129,6.4,2.8,5.6,2.1,Iris-virginica\n",
            "\n",
            "130,7.2,3.0,5.8,1.6,Iris-virginica\n",
            "\n",
            "131,7.4,2.8,6.1,1.9,Iris-virginica\n",
            "\n",
            "132,7.9,3.8,6.4,2.0,Iris-virginica\n",
            "\n",
            "133,6.4,2.8,5.6,2.2,Iris-virginica\n",
            "\n",
            "134,6.3,2.8,5.1,1.5,Iris-virginica\n",
            "\n",
            "135,6.1,2.6,5.6,1.4,Iris-virginica\n",
            "\n",
            "136,7.7,3.0,6.1,2.3,Iris-virginica\n",
            "\n",
            "137,6.3,3.4,5.6,2.4,Iris-virginica\n",
            "\n",
            "138,6.4,3.1,5.5,1.8,Iris-virginica\n",
            "\n",
            "139,6.0,3.0,4.8,1.8,Iris-virginica\n",
            "\n",
            "140,6.9,3.1,5.4,2.1,Iris-virginica\n",
            "\n",
            "141,6.7,3.1,5.6,2.4,Iris-virginica\n",
            "\n",
            "142,6.9,3.1,5.1,2.3,Iris-virginica\n",
            "\n",
            "143,5.8,2.7,5.1,1.9,Iris-virginica\n",
            "\n",
            "144,6.8,3.2,5.9,2.3,Iris-virginica\n",
            "\n",
            "145,6.7,3.3,5.7,2.5,Iris-virginica\n",
            "\n",
            "146,6.7,3.0,5.2,2.3,Iris-virginica\n",
            "\n",
            "147,6.3,2.5,5.0,1.9,Iris-virginica\n",
            "\n",
            "148,6.5,3.0,5.2,2.0,Iris-virginica\n",
            "\n",
            "149,6.2,3.4,5.4,2.3,Iris-virginica\n",
            "\n",
            "150,5.9,3.0,5.1,1.8,Iris-virginica\n",
            "\n"
          ]
        }
      ]
    },
    {
      "cell_type": "code",
      "metadata": {
        "id": "YN6QXZ-ipR87"
      },
      "source": [
        "iris = pd.read_csv(\"/content/drive/MyDrive/IA/temp.csv\") #load the dataset"
      ],
      "execution_count": 58,
      "outputs": []
    },
    {
      "cell_type": "code",
      "metadata": {
        "colab": {
          "base_uri": "https://localhost:8080/",
          "height": 206
        },
        "id": "EvvDwe4VpWFQ",
        "outputId": "31479b49-3df8-4073-9a99-73e8b566d145"
      },
      "source": [
        "iris.head(5) #show the first 5 rows from the dataset"
      ],
      "execution_count": 59,
      "outputs": [
        {
          "output_type": "execute_result",
          "data": {
            "text/plain": [
              "   Id  SepalLengthCm  SepalWidthCm  PetalLengthCm  PetalWidthCm      Species\n",
              "0   1            5.1           3.5            1.4           0.2  Iris-setosa\n",
              "1   2            4.9           3.0            1.4           0.2  Iris-setosa\n",
              "2   3            4.7           3.2            1.3           0.2  Iris-setosa\n",
              "3   4            4.6           3.1            1.5           0.2  Iris-setosa\n",
              "4   5            5.0           3.6            1.4           0.2  Iris-setosa"
            ],
            "text/html": [
              "\n",
              "  <div id=\"df-16d858cd-4461-48e8-a3de-0e61723f78a6\">\n",
              "    <div class=\"colab-df-container\">\n",
              "      <div>\n",
              "<style scoped>\n",
              "    .dataframe tbody tr th:only-of-type {\n",
              "        vertical-align: middle;\n",
              "    }\n",
              "\n",
              "    .dataframe tbody tr th {\n",
              "        vertical-align: top;\n",
              "    }\n",
              "\n",
              "    .dataframe thead th {\n",
              "        text-align: right;\n",
              "    }\n",
              "</style>\n",
              "<table border=\"1\" class=\"dataframe\">\n",
              "  <thead>\n",
              "    <tr style=\"text-align: right;\">\n",
              "      <th></th>\n",
              "      <th>Id</th>\n",
              "      <th>SepalLengthCm</th>\n",
              "      <th>SepalWidthCm</th>\n",
              "      <th>PetalLengthCm</th>\n",
              "      <th>PetalWidthCm</th>\n",
              "      <th>Species</th>\n",
              "    </tr>\n",
              "  </thead>\n",
              "  <tbody>\n",
              "    <tr>\n",
              "      <th>0</th>\n",
              "      <td>1</td>\n",
              "      <td>5.1</td>\n",
              "      <td>3.5</td>\n",
              "      <td>1.4</td>\n",
              "      <td>0.2</td>\n",
              "      <td>Iris-setosa</td>\n",
              "    </tr>\n",
              "    <tr>\n",
              "      <th>1</th>\n",
              "      <td>2</td>\n",
              "      <td>4.9</td>\n",
              "      <td>3.0</td>\n",
              "      <td>1.4</td>\n",
              "      <td>0.2</td>\n",
              "      <td>Iris-setosa</td>\n",
              "    </tr>\n",
              "    <tr>\n",
              "      <th>2</th>\n",
              "      <td>3</td>\n",
              "      <td>4.7</td>\n",
              "      <td>3.2</td>\n",
              "      <td>1.3</td>\n",
              "      <td>0.2</td>\n",
              "      <td>Iris-setosa</td>\n",
              "    </tr>\n",
              "    <tr>\n",
              "      <th>3</th>\n",
              "      <td>4</td>\n",
              "      <td>4.6</td>\n",
              "      <td>3.1</td>\n",
              "      <td>1.5</td>\n",
              "      <td>0.2</td>\n",
              "      <td>Iris-setosa</td>\n",
              "    </tr>\n",
              "    <tr>\n",
              "      <th>4</th>\n",
              "      <td>5</td>\n",
              "      <td>5.0</td>\n",
              "      <td>3.6</td>\n",
              "      <td>1.4</td>\n",
              "      <td>0.2</td>\n",
              "      <td>Iris-setosa</td>\n",
              "    </tr>\n",
              "  </tbody>\n",
              "</table>\n",
              "</div>\n",
              "      <button class=\"colab-df-convert\" onclick=\"convertToInteractive('df-16d858cd-4461-48e8-a3de-0e61723f78a6')\"\n",
              "              title=\"Convert this dataframe to an interactive table.\"\n",
              "              style=\"display:none;\">\n",
              "        \n",
              "  <svg xmlns=\"http://www.w3.org/2000/svg\" height=\"24px\"viewBox=\"0 0 24 24\"\n",
              "       width=\"24px\">\n",
              "    <path d=\"M0 0h24v24H0V0z\" fill=\"none\"/>\n",
              "    <path d=\"M18.56 5.44l.94 2.06.94-2.06 2.06-.94-2.06-.94-.94-2.06-.94 2.06-2.06.94zm-11 1L8.5 8.5l.94-2.06 2.06-.94-2.06-.94L8.5 2.5l-.94 2.06-2.06.94zm10 10l.94 2.06.94-2.06 2.06-.94-2.06-.94-.94-2.06-.94 2.06-2.06.94z\"/><path d=\"M17.41 7.96l-1.37-1.37c-.4-.4-.92-.59-1.43-.59-.52 0-1.04.2-1.43.59L10.3 9.45l-7.72 7.72c-.78.78-.78 2.05 0 2.83L4 21.41c.39.39.9.59 1.41.59.51 0 1.02-.2 1.41-.59l7.78-7.78 2.81-2.81c.8-.78.8-2.07 0-2.86zM5.41 20L4 18.59l7.72-7.72 1.47 1.35L5.41 20z\"/>\n",
              "  </svg>\n",
              "      </button>\n",
              "      \n",
              "  <style>\n",
              "    .colab-df-container {\n",
              "      display:flex;\n",
              "      flex-wrap:wrap;\n",
              "      gap: 12px;\n",
              "    }\n",
              "\n",
              "    .colab-df-convert {\n",
              "      background-color: #E8F0FE;\n",
              "      border: none;\n",
              "      border-radius: 50%;\n",
              "      cursor: pointer;\n",
              "      display: none;\n",
              "      fill: #1967D2;\n",
              "      height: 32px;\n",
              "      padding: 0 0 0 0;\n",
              "      width: 32px;\n",
              "    }\n",
              "\n",
              "    .colab-df-convert:hover {\n",
              "      background-color: #E2EBFA;\n",
              "      box-shadow: 0px 1px 2px rgba(60, 64, 67, 0.3), 0px 1px 3px 1px rgba(60, 64, 67, 0.15);\n",
              "      fill: #174EA6;\n",
              "    }\n",
              "\n",
              "    [theme=dark] .colab-df-convert {\n",
              "      background-color: #3B4455;\n",
              "      fill: #D2E3FC;\n",
              "    }\n",
              "\n",
              "    [theme=dark] .colab-df-convert:hover {\n",
              "      background-color: #434B5C;\n",
              "      box-shadow: 0px 1px 3px 1px rgba(0, 0, 0, 0.15);\n",
              "      filter: drop-shadow(0px 1px 2px rgba(0, 0, 0, 0.3));\n",
              "      fill: #FFFFFF;\n",
              "    }\n",
              "  </style>\n",
              "\n",
              "      <script>\n",
              "        const buttonEl =\n",
              "          document.querySelector('#df-16d858cd-4461-48e8-a3de-0e61723f78a6 button.colab-df-convert');\n",
              "        buttonEl.style.display =\n",
              "          google.colab.kernel.accessAllowed ? 'block' : 'none';\n",
              "\n",
              "        async function convertToInteractive(key) {\n",
              "          const element = document.querySelector('#df-16d858cd-4461-48e8-a3de-0e61723f78a6');\n",
              "          const dataTable =\n",
              "            await google.colab.kernel.invokeFunction('convertToInteractive',\n",
              "                                                     [key], {});\n",
              "          if (!dataTable) return;\n",
              "\n",
              "          const docLinkHtml = 'Like what you see? Visit the ' +\n",
              "            '<a target=\"_blank\" href=https://colab.research.google.com/notebooks/data_table.ipynb>data table notebook</a>'\n",
              "            + ' to learn more about interactive tables.';\n",
              "          element.innerHTML = '';\n",
              "          dataTable['output_type'] = 'display_data';\n",
              "          await google.colab.output.renderOutput(dataTable, element);\n",
              "          const docLink = document.createElement('div');\n",
              "          docLink.innerHTML = docLinkHtml;\n",
              "          element.appendChild(docLink);\n",
              "        }\n",
              "      </script>\n",
              "    </div>\n",
              "  </div>\n",
              "  "
            ]
          },
          "metadata": {},
          "execution_count": 59
        }
      ]
    },
    {
      "cell_type": "code",
      "metadata": {
        "colab": {
          "base_uri": "https://localhost:8080/"
        },
        "id": "XaP2qfwUpayl",
        "outputId": "5d64202e-130a-46ac-b218-9827bf7fa47b"
      },
      "source": [
        "iris.info()  #checking if there is any inconsistency in the dataset\n",
        "#as we see there are no null values in the dataset, so the data can be processed"
      ],
      "execution_count": 60,
      "outputs": [
        {
          "output_type": "stream",
          "name": "stdout",
          "text": [
            "<class 'pandas.core.frame.DataFrame'>\n",
            "RangeIndex: 150 entries, 0 to 149\n",
            "Data columns (total 6 columns):\n",
            " #   Column         Non-Null Count  Dtype  \n",
            "---  ------         --------------  -----  \n",
            " 0   Id             150 non-null    int64  \n",
            " 1   SepalLengthCm  150 non-null    float64\n",
            " 2   SepalWidthCm   150 non-null    float64\n",
            " 3   PetalLengthCm  150 non-null    float64\n",
            " 4   PetalWidthCm   150 non-null    float64\n",
            " 5   Species        150 non-null    object \n",
            "dtypes: float64(4), int64(1), object(1)\n",
            "memory usage: 7.2+ KB\n"
          ]
        }
      ]
    },
    {
      "cell_type": "code",
      "metadata": {
        "colab": {
          "base_uri": "https://localhost:8080/"
        },
        "id": "0EU8NRDApflc",
        "outputId": "97adb028-d873-417e-e854-50823f3f7d78"
      },
      "source": [
        "train, test = train_test_split(iris, test_size = 0.3)# in this our main data is split into train and test\n",
        "# the attribute test_size=0.3 splits the data into 70% and 30% ratio. train=70% and test=30%\n",
        "print(train.shape)\n",
        "print(test.shape)"
      ],
      "execution_count": 61,
      "outputs": [
        {
          "output_type": "stream",
          "name": "stdout",
          "text": [
            "(105, 6)\n",
            "(45, 6)\n"
          ]
        }
      ]
    },
    {
      "cell_type": "code",
      "metadata": {
        "id": "ZQPzB7Wlpkvt"
      },
      "source": [
        "train_X = train[['SepalLengthCm','SepalWidthCm','PetalLengthCm','PetalWidthCm']]# taking the training data features\n",
        "train_y = train.Species# output of our training data\n",
        "test_X = test[['SepalLengthCm','SepalWidthCm','PetalLengthCm','PetalWidthCm']] # taking test data features\n",
        "test_y = test.Species   #output value of test data"
      ],
      "execution_count": 62,
      "outputs": []
    },
    {
      "cell_type": "code",
      "metadata": {
        "colab": {
          "base_uri": "https://localhost:8080/"
        },
        "id": "d8Yby_OWppX2",
        "outputId": "d2ab96c8-fa9f-4580-c91c-fb498fe50045"
      },
      "source": [
        "#Initializing the MLPClassifier\n",
        "mlp = MLPClassifier(hidden_layer_sizes=(100,100,100),max_iter=500)\n",
        "#Fitting the training data to the network\n",
        "mlp.fit(train_X, train_y)\n",
        "\n",
        "#Predicting y for X_val\n",
        "prediction = mlp.predict(test_X)\n",
        "\n",
        "print('The accuracy of the MultLayer Perceptron is',metrics.accuracy_score(test_y,prediction))"
      ],
      "execution_count": 63,
      "outputs": [
        {
          "output_type": "stream",
          "name": "stdout",
          "text": [
            "The accuracy of the MultLayer Perceptron is 0.9111111111111111\n"
          ]
        }
      ]
    },
    {
      "cell_type": "code",
      "metadata": {
        "colab": {
          "base_uri": "https://localhost:8080/"
        },
        "id": "VrFg7oPaxbf7",
        "outputId": "bda25b3a-c665-44e9-ecff-c422b5c0f227"
      },
      "source": [
        "cm = confusion_matrix(test_y,prediction)\n",
        "cm"
      ],
      "execution_count": 64,
      "outputs": [
        {
          "output_type": "execute_result",
          "data": {
            "text/plain": [
              "array([[13,  0,  0],\n",
              "       [ 0, 15,  3],\n",
              "       [ 0,  1, 13]])"
            ]
          },
          "metadata": {},
          "execution_count": 64
        }
      ]
    },
    {
      "cell_type": "code",
      "metadata": {
        "colab": {
          "base_uri": "https://localhost:8080/",
          "height": 265
        },
        "id": "8Xfng3YxyHPS",
        "outputId": "953bec4c-03ed-41a9-a51e-a4386d94aab4"
      },
      "source": [
        "sns.heatmap(cm, center=True)\n",
        "plt.show()"
      ],
      "execution_count": 65,
      "outputs": [
        {
          "output_type": "display_data",
          "data": {
            "text/plain": [
              "<Figure size 432x288 with 2 Axes>"
            ],
            "image/png": "[encoded data removed]"
          },
          "metadata": {
            "needs_background": "light"
          }
        }
      ]
    },
    {
      "cell_type": "code",
      "metadata": {
        "colab": {
          "base_uri": "https://localhost:8080/"
        },
        "id": "sWtfmwfi6tqz",
        "outputId": "ddfea7df-be64-4e9b-be4d-821aa9645475"
      },
      "source": [
        "# new data to be classified\n",
        "X_new = np.array([[5.1,3.5,1.4,0.2]])\n",
        "\n",
        "prediction = mlp.predict(X_new) \n",
        "  \n",
        "current_time = datetime.now()  \n",
        "time_stamp = current_time.timestamp()\n",
        "date_time = datetime.fromtimestamp(time_stamp)\n",
        "print(\"The date and time is:\", date_time)\n",
        "\n",
        "if prediction[0] == 0.0:\n",
        "  print('Setosa')\n",
        "  enviarPredicao('Setosa', str(date_time))\n",
        "elif prediction[0] == 1.0:\n",
        "  print('Versicolor')\n",
        "  enviarPredicao('Versicolor', str(date_time))\n",
        "else:\n",
        "  print('Virginica')\n",
        "  enviarPredicao('Virginica', str(date_time))\n",
        "\n",
        "os.remove('/content/drive/MyDrive/IA/temp.csv')"
      ],
      "execution_count": 66,
      "outputs": [
        {
          "output_type": "stream",
          "name": "stderr",
          "text": [
            "/usr/local/lib/python3.8/dist-packages/sklearn/base.py:450: UserWarning: X does not have valid feature names, but MLPClassifier was fitted with feature names\n",
            "  warnings.warn(\n"
          ]
        },
        {
          "output_type": "stream",
          "name": "stdout",
          "text": [
            "The date and time is: 2022-12-28 04:10:19.650862\n",
            "Virginica\n"
          ]
        }
      ]
    },
    {
      "cell_type": "code",
      "source": [
        "print(obterPredicoes())"
      ],
      "metadata": {
        "colab": {
          "base_uri": "https://localhost:8080/"
        },
        "id": "EK7WPRbn5aZA",
        "outputId": "d6ec4b33-e9a8-4df6-fdf9-0dcae3c880ad"
      },
      "execution_count": 67,
      "outputs": [
        {
          "output_type": "stream",
          "name": "stdout",
          "text": [
            "[('Virginica', '2022-12-27 14:21:31.387767'), ('Virginica', '2022-12-27 18:31:09.244602'), ('Virginica', '2022-12-27 18:35:27.682719')]\n"
          ]
        }
      ]
    }
  ]
}