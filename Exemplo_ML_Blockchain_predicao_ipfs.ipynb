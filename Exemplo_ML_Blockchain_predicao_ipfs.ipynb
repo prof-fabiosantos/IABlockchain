{
  "nbformat": 4,
  "nbformat_minor": 0,
  "metadata": {
    "colab": {
      "provenance": []
    },
    "kernelspec": {
      "name": "python3",
      "display_name": "Python 3"
    },
    "language_info": {
      "name": "python"
    }
  },
  "cells": [
    {
      "cell_type": "code",
      "source": [
        "pip install web3"
      ],
      "metadata": {
        "colab": {
          "base_uri": "https://localhost:8080/",
          "height": 1000
        },
        "id": "ILwzClrgsg5Q",
        "outputId": "6d74b69a-55a4-4961-ff96-75661ac294b9"
      },
      "execution_count": 1,
      "outputs": [
        {
          "output_type": "stream",
          "name": "stdout",
          "text": [
            "Looking in indexes: https://pypi.org/simple, https://us-python.pkg.dev/colab-wheels/public/simple/\n",
            "Collecting web3\n",
            "  Downloading web3-5.31.3-py3-none-any.whl (501 kB)\n",
            "\u001b[K     |████████████████████████████████| 501 kB 7.1 MB/s \n",
            "\u001b[?25hCollecting lru-dict<2.0.0,>=1.1.6\n",
            "  Downloading lru_dict-1.1.8-cp38-cp38-manylinux_2_5_x86_64.manylinux1_x86_64.manylinux_2_17_x86_64.manylinux2014_x86_64.whl (29 kB)\n",
            "Collecting ipfshttpclient==0.8.0a2\n",
            "  Downloading ipfshttpclient-0.8.0a2-py3-none-any.whl (82 kB)\n",
            "\u001b[K     |████████████████████████████████| 82 kB 1.1 MB/s \n",
            "\u001b[?25hCollecting eth-rlp<0.3\n",
            "  Downloading eth_rlp-0.2.1-py3-none-any.whl (5.0 kB)\n",
            "Collecting eth-abi<3.0.0,>=2.2.0\n",
            "  Downloading eth_abi-2.2.0-py3-none-any.whl (28 kB)\n",
            "Collecting websockets<10,>=9.1\n",
            "  Downloading websockets-9.1-cp38-cp38-manylinux2010_x86_64.whl (102 kB)\n",
            "\u001b[K     |████████████████████████████████| 102 kB 15.3 MB/s \n",
            "\u001b[?25hRequirement already satisfied: jsonschema<5,>=3.2.0 in /usr/local/lib/python3.8/dist-packages (from web3) (4.3.3)\n",
            "Collecting eth-typing<3.0.0,>=2.0.0\n",
            "  Downloading eth_typing-2.3.0-py3-none-any.whl (6.2 kB)\n",
            "Requirement already satisfied: requests<3.0.0,>=2.16.0 in /usr/local/lib/python3.8/dist-packages (from web3) (2.23.0)\n",
            "Collecting eth-utils<2.0.0,>=1.9.5\n",
            "  Downloading eth_utils-1.10.0-py3-none-any.whl (24 kB)\n",
            "Collecting eth-account<0.6.0,>=0.5.9\n",
            "  Downloading eth_account-0.5.9-py3-none-any.whl (101 kB)\n",
            "\u001b[K     |████████████████████████████████| 101 kB 12.9 MB/s \n",
            "\u001b[?25hCollecting hexbytes<1.0.0,>=0.1.0\n",
            "  Downloading hexbytes-0.3.0-py3-none-any.whl (6.4 kB)\n",
            "Collecting protobuf==3.19.5\n",
            "  Downloading protobuf-3.19.5-cp38-cp38-manylinux_2_17_x86_64.manylinux2014_x86_64.whl (1.1 MB)\n",
            "\u001b[K     |████████████████████████████████| 1.1 MB 56.7 MB/s \n",
            "\u001b[?25hRequirement already satisfied: aiohttp<4,>=3.7.4.post0 in /usr/local/lib/python3.8/dist-packages (from web3) (3.8.3)\n",
            "Collecting eth-hash[pycryptodome]<1.0.0,>=0.2.0\n",
            "  Downloading eth_hash-0.5.1-py3-none-any.whl (9.0 kB)\n",
            "Collecting multiaddr>=0.0.7\n",
            "  Downloading multiaddr-0.0.9-py2.py3-none-any.whl (16 kB)\n",
            "Requirement already satisfied: async-timeout<5.0,>=4.0.0a3 in /usr/local/lib/python3.8/dist-packages (from aiohttp<4,>=3.7.4.post0->web3) (4.0.2)\n",
            "Requirement already satisfied: aiosignal>=1.1.2 in /usr/local/lib/python3.8/dist-packages (from aiohttp<4,>=3.7.4.post0->web3) (1.3.1)\n",
            "Requirement already satisfied: frozenlist>=1.1.1 in /usr/local/lib/python3.8/dist-packages (from aiohttp<4,>=3.7.4.post0->web3) (1.3.3)\n",
            "Requirement already satisfied: attrs>=17.3.0 in /usr/local/lib/python3.8/dist-packages (from aiohttp<4,>=3.7.4.post0->web3) (22.1.0)\n",
            "Requirement already satisfied: yarl<2.0,>=1.0 in /usr/local/lib/python3.8/dist-packages (from aiohttp<4,>=3.7.4.post0->web3) (1.8.2)\n",
            "Requirement already satisfied: multidict<7.0,>=4.5 in /usr/local/lib/python3.8/dist-packages (from aiohttp<4,>=3.7.4.post0->web3) (6.0.3)\n",
            "Requirement already satisfied: charset-normalizer<3.0,>=2.0 in /usr/local/lib/python3.8/dist-packages (from aiohttp<4,>=3.7.4.post0->web3) (2.1.1)\n",
            "Collecting parsimonious<0.9.0,>=0.8.0\n",
            "  Downloading parsimonious-0.8.1.tar.gz (45 kB)\n",
            "\u001b[K     |████████████████████████████████| 45 kB 3.4 MB/s \n",
            "\u001b[?25hCollecting rlp<3,>=1.0.0\n",
            "  Downloading rlp-2.0.1-py2.py3-none-any.whl (20 kB)\n",
            "Collecting eth-keyfile<0.6.0,>=0.5.0\n",
            "  Downloading eth_keyfile-0.5.1-py3-none-any.whl (8.3 kB)\n",
            "Collecting bitarray<3,>=1.2.1\n",
            "  Downloading bitarray-2.6.1-cp38-cp38-manylinux_2_17_x86_64.manylinux2014_x86_64.whl (241 kB)\n",
            "\u001b[K     |████████████████████████████████| 241 kB 44.6 MB/s \n",
            "\u001b[?25hCollecting eth-keys<0.4.0,>=0.3.4\n",
            "  Downloading eth_keys-0.3.4-py3-none-any.whl (21 kB)\n",
            "Collecting pycryptodome<4,>=3.6.6\n",
            "  Downloading pycryptodome-3.16.0-cp35-abi3-manylinux_2_5_x86_64.manylinux1_x86_64.manylinux_2_12_x86_64.manylinux2010_x86_64.whl (2.3 MB)\n",
            "\u001b[K     |████████████████████████████████| 2.3 MB 58.1 MB/s \n",
            "\u001b[?25hCollecting cytoolz<1.0.0,>=0.9.0\n",
            "  Downloading cytoolz-0.12.1-cp38-cp38-manylinux_2_17_x86_64.manylinux2014_x86_64.whl (1.8 MB)\n",
            "\u001b[K     |████████████████████████████████| 1.8 MB 53.2 MB/s \n",
            "\u001b[?25hRequirement already satisfied: toolz>=0.8.0 in /usr/local/lib/python3.8/dist-packages (from cytoolz<1.0.0,>=0.9.0->eth-keyfile<0.6.0,>=0.5.0->eth-account<0.6.0,>=0.5.9->web3) (0.12.0)\n",
            "Collecting eth-utils<2.0.0,>=1.9.5\n",
            "  Downloading eth_utils-1.9.5-py3-none-any.whl (23 kB)\n",
            "Requirement already satisfied: importlib-resources>=1.4.0 in /usr/local/lib/python3.8/dist-packages (from jsonschema<5,>=3.2.0->web3) (5.10.1)\n",
            "Requirement already satisfied: pyrsistent!=0.17.0,!=0.17.1,!=0.17.2,>=0.14.0 in /usr/local/lib/python3.8/dist-packages (from jsonschema<5,>=3.2.0->web3) (0.19.2)\n",
            "Requirement already satisfied: zipp>=3.1.0 in /usr/local/lib/python3.8/dist-packages (from importlib-resources>=1.4.0->jsonschema<5,>=3.2.0->web3) (3.11.0)\n",
            "Requirement already satisfied: six in /usr/local/lib/python3.8/dist-packages (from multiaddr>=0.0.7->ipfshttpclient==0.8.0a2->web3) (1.15.0)\n",
            "Collecting netaddr\n",
            "  Downloading netaddr-0.8.0-py2.py3-none-any.whl (1.9 MB)\n",
            "\u001b[K     |████████████████████████████████| 1.9 MB 65.1 MB/s \n",
            "\u001b[?25hCollecting base58\n",
            "  Downloading base58-2.1.1-py3-none-any.whl (5.6 kB)\n",
            "Collecting varint\n",
            "  Downloading varint-1.0.2.tar.gz (1.9 kB)\n",
            "Requirement already satisfied: certifi>=2017.4.17 in /usr/local/lib/python3.8/dist-packages (from requests<3.0.0,>=2.16.0->web3) (2022.12.7)\n",
            "Requirement already satisfied: urllib3!=1.25.0,!=1.25.1,<1.26,>=1.21.1 in /usr/local/lib/python3.8/dist-packages (from requests<3.0.0,>=2.16.0->web3) (1.24.3)\n",
            "Requirement already satisfied: chardet<4,>=3.0.2 in /usr/local/lib/python3.8/dist-packages (from requests<3.0.0,>=2.16.0->web3) (3.0.4)\n",
            "Requirement already satisfied: idna<3,>=2.5 in /usr/local/lib/python3.8/dist-packages (from requests<3.0.0,>=2.16.0->web3) (2.10)\n",
            "Building wheels for collected packages: parsimonious, varint\n",
            "  Building wheel for parsimonious (setup.py) ... \u001b[?25l\u001b[?25hdone\n",
            "  Created wheel for parsimonious: filename=parsimonious-0.8.1-py3-none-any.whl size=42725 sha256=f1a5f5a2899e2104317c7b020ba204c3121b786d1e594f348699bdc526bfb5b3\n",
            "  Stored in directory: /root/.cache/pip/wheels/d8/af/19/fb896f509a437aca2dcf62583e84d7fb2cd5b628c1564a609c\n",
            "  Building wheel for varint (setup.py) ... \u001b[?25l\u001b[?25hdone\n",
            "  Created wheel for varint: filename=varint-1.0.2-py3-none-any.whl size=1978 sha256=3e571f28ab226293725cefae5685a9d95857620b8ce65b7c3b551dfa9537be3c\n",
            "  Stored in directory: /root/.cache/pip/wheels/cc/a8/a4/4d9e9807c27585dc974fc0e86a3e4345649d71f8a35906d1a8\n",
            "Successfully built parsimonious varint\n",
            "Installing collected packages: eth-typing, eth-hash, cytoolz, eth-utils, varint, rlp, pycryptodome, parsimonious, netaddr, hexbytes, eth-keys, base58, multiaddr, eth-rlp, eth-keyfile, eth-abi, bitarray, websockets, protobuf, lru-dict, ipfshttpclient, eth-account, web3\n",
            "  Attempting uninstall: protobuf\n",
            "    Found existing installation: protobuf 3.19.6\n",
            "    Uninstalling protobuf-3.19.6:\n",
            "      Successfully uninstalled protobuf-3.19.6\n",
            "Successfully installed base58-2.1.1 bitarray-2.6.1 cytoolz-0.12.1 eth-abi-2.2.0 eth-account-0.5.9 eth-hash-0.5.1 eth-keyfile-0.5.1 eth-keys-0.3.4 eth-rlp-0.2.1 eth-typing-2.3.0 eth-utils-1.9.5 hexbytes-0.3.0 ipfshttpclient-0.8.0a2 lru-dict-1.1.8 multiaddr-0.0.9 netaddr-0.8.0 parsimonious-0.8.1 protobuf-3.19.5 pycryptodome-3.16.0 rlp-2.0.1 varint-1.0.2 web3-5.31.3 websockets-9.1\n"
          ]
        },
        {
          "output_type": "display_data",
          "data": {
            "application/vnd.colab-display-data+json": {
              "pip_warning": {
                "packages": [
                  "google"
                ]
              }
            }
          },
          "metadata": {}
        }
      ]
    },
    {
      "cell_type": "code",
      "source": [
        "from google.colab import drive, files\n",
        "drive.mount('/content/drive/')"
      ],
      "metadata": {
        "colab": {
          "base_uri": "https://localhost:8080/"
        },
        "id": "r_Gq39hnwHAf",
        "outputId": "5215cf80-0c4f-4af6-cd52-e548f29c898c"
      },
      "execution_count": 1,
      "outputs": [
        {
          "output_type": "stream",
          "name": "stdout",
          "text": [
            "Mounted at /content/drive/\n"
          ]
        }
      ]
    },
    {
      "cell_type": "code",
      "source": [
        "pip install pickle5"
      ],
      "metadata": {
        "colab": {
          "base_uri": "https://localhost:8080/"
        },
        "id": "-rtYtCV_cikp",
        "outputId": "08e8321e-53d2-4ce2-f32e-315aca68a979"
      },
      "execution_count": 2,
      "outputs": [
        {
          "output_type": "stream",
          "name": "stdout",
          "text": [
            "Looking in indexes: https://pypi.org/simple, https://us-python.pkg.dev/colab-wheels/public/simple/\n",
            "Collecting pickle5\n",
            "  Downloading pickle5-0.0.11.tar.gz (132 kB)\n",
            "\u001b[K     |████████████████████████████████| 132 kB 6.6 MB/s \n",
            "\u001b[?25hBuilding wheels for collected packages: pickle5\n",
            "  Building wheel for pickle5 (setup.py) ... \u001b[?25l\u001b[?25hdone\n",
            "  Created wheel for pickle5: filename=pickle5-0.0.11-cp38-cp38-linux_x86_64.whl size=236285 sha256=3bf8ce247f485ce419c4b4449fb23a4c3f19e2191928e689543c9b9f2b223cb9\n",
            "  Stored in directory: /root/.cache/pip/wheels/25/d4/61/dbd8edd1a0d656be7b4267c85db3b61951eb60016a0154a122\n",
            "Successfully built pickle5\n",
            "Installing collected packages: pickle5\n",
            "Successfully installed pickle5-0.0.11\n"
          ]
        }
      ]
    },
    {
      "cell_type": "code",
      "metadata": {
        "id": "G8uGXseRpDQT"
      },
      "source": [
        "import numpy as np # linear algebra\n",
        "import pandas as pd # data processing, CSV file I/O (e.g. pd.read_csv)\n",
        "from sklearn.model_selection import train_test_split #to split the dataset for training and testing\n",
        "from sklearn.neural_network import MLPClassifier #Importing MLPClassifier for classification.\n",
        "from sklearn import metrics\n",
        "import json\n",
        "from web3 import Web3\n",
        "import os\n",
        "import datetime;\n",
        "from datetime import datetime\n",
        "# Save Model Using joblib\n",
        "import pickle "
      ],
      "execution_count": 3,
      "outputs": []
    },
    {
      "cell_type": "code",
      "source": [
        "# add your blockchain connection information\n",
        "infura_url = 'https://goerli.infura.io/v3/5ff13871021244b79ad9642b2f6499e3'\n",
        "web3 = Web3(Web3.HTTPProvider(infura_url))\n",
        "chain_id = 5\n",
        "\n",
        "account = \"0xc144cD60Be02F5d5C6CFfcb56DcE32D99097Afb9\"\n",
        "private_key = '3cd656d14571c2f3c39b97dc273060f7653ec6c2fbbb916e717b4e9f1e28f147'\n",
        "\n",
        "#contract address and abi\n",
        "contract_Address = '0x8e8EF6DbFF63d25e73166c8225f1b0aDafBF255B'\n",
        "contract_abi = json.loads('[ \t{ \t\t\"inputs\": [ \t\t\t{ \t\t\t\t\"internalType\": \"string\", \t\t\t\t\"name\": \"_name\", \t\t\t\t\"type\": \"string\" \t\t\t}, \t\t\t{ \t\t\t\t\"internalType\": \"string\", \t\t\t\t\"name\": \"_hash\", \t\t\t\t\"type\": \"string\" \t\t\t} \t\t], \t\t\"name\": \"storeModel\", \t\t\"outputs\": [], \t\t\"stateMutability\": \"nonpayable\", \t\t\"type\": \"function\" \t}, \t{ \t\t\"inputs\": [ \t\t\t{ \t\t\t\t\"internalType\": \"string\", \t\t\t\t\"name\": \"_prediciton\", \t\t\t\t\"type\": \"string\" \t\t\t}, \t\t\t{ \t\t\t\t\"internalType\": \"string\", \t\t\t\t\"name\": \"_timeData\", \t\t\t\t\"type\": \"string\" \t\t\t} \t\t], \t\t\"name\": \"storePrediction\", \t\t\"outputs\": [], \t\t\"stateMutability\": \"nonpayable\", \t\t\"type\": \"function\" \t}, \t{ \t\t\"inputs\": [ \t\t\t{ \t\t\t\t\"internalType\": \"string[]\", \t\t\t\t\"name\": \"_records\", \t\t\t\t\"type\": \"string[]\" \t\t\t} \t\t], \t\t\"name\": \"storeRecords\", \t\t\"outputs\": [], \t\t\"stateMutability\": \"nonpayable\", \t\t\"type\": \"function\" \t}, \t{ \t\t\"inputs\": [], \t\t\"name\": \"retrieveModels\", \t\t\"outputs\": [ \t\t\t{ \t\t\t\t\"components\": [ \t\t\t\t\t{ \t\t\t\t\t\t\"internalType\": \"string\", \t\t\t\t\t\t\"name\": \"name\", \t\t\t\t\t\t\"type\": \"string\" \t\t\t\t\t}, \t\t\t\t\t{ \t\t\t\t\t\t\"internalType\": \"string\", \t\t\t\t\t\t\"name\": \"hash\", \t\t\t\t\t\t\"type\": \"string\" \t\t\t\t\t} \t\t\t\t], \t\t\t\t\"internalType\": \"struct IA.Model[]\", \t\t\t\t\"name\": \"\", \t\t\t\t\"type\": \"tuple[]\" \t\t\t} \t\t], \t\t\"stateMutability\": \"view\", \t\t\"type\": \"function\" \t}, \t{ \t\t\"inputs\": [], \t\t\"name\": \"retrievePredicitons\", \t\t\"outputs\": [ \t\t\t{ \t\t\t\t\"components\": [ \t\t\t\t\t{ \t\t\t\t\t\t\"internalType\": \"string\", \t\t\t\t\t\t\"name\": \"prediction\", \t\t\t\t\t\t\"type\": \"string\" \t\t\t\t\t}, \t\t\t\t\t{ \t\t\t\t\t\t\"internalType\": \"string\", \t\t\t\t\t\t\"name\": \"timeData\", \t\t\t\t\t\t\"type\": \"string\" \t\t\t\t\t} \t\t\t\t], \t\t\t\t\"internalType\": \"struct IA.Prediction[]\", \t\t\t\t\"name\": \"\", \t\t\t\t\"type\": \"tuple[]\" \t\t\t} \t\t], \t\t\"stateMutability\": \"view\", \t\t\"type\": \"function\" \t}, \t{ \t\t\"inputs\": [], \t\t\"name\": \"retrieveRecords\", \t\t\"outputs\": [ \t\t\t{ \t\t\t\t\"internalType\": \"string[]\", \t\t\t\t\"name\": \"\", \t\t\t\t\"type\": \"string[]\" \t\t\t} \t\t], \t\t\"stateMutability\": \"view\", \t\t\"type\": \"function\" \t} ]')\n",
        "\n",
        "contract = web3.eth.contract(address=contract_Address, abi=contract_abi)\n",
        "nonce = web3.eth.getTransactionCount(account)"
      ],
      "metadata": {
        "id": "U3bxR2IetJpY"
      },
      "execution_count": 13,
      "outputs": []
    },
    {
      "cell_type": "code",
      "source": [
        "def obterModelos():\n",
        "    # Wait for transaction to be mined\n",
        "    transaction = contract.functions.retrieveModels().call()\n",
        "    \n",
        "    return transaction"
      ],
      "metadata": {
        "id": "uCB3Xf46xb-s"
      },
      "execution_count": 14,
      "outputs": []
    },
    {
      "cell_type": "code",
      "source": [
        "def enviarPredicao(_predicao, _timestamp):   \n",
        "    transaction = contract.functions.storePrediction(_predicao, _timestamp).buildTransaction(\n",
        "        {\n",
        "            \"gasPrice\": web3.eth.gas_price,\n",
        "            \"chainId\": chain_id,\n",
        "            \"from\": account,\n",
        "            \"nonce\": nonce \n",
        "        }\n",
        "    )\n",
        "    signed_transaction = web3.eth.account.sign_transaction(transaction, private_key = private_key)\n",
        "    transaction_hash = web3.eth.send_raw_transaction(signed_transaction.rawTransaction)\n",
        "    transaction_receipt = web3.eth.wait_for_transaction_receipt(transaction_hash)"
      ],
      "metadata": {
        "id": "8XPYMmZj_ALi"
      },
      "execution_count": 15,
      "outputs": []
    },
    {
      "cell_type": "code",
      "source": [
        "def compare_strings(str1, str2):\n",
        "    count1 = 0\n",
        "    count2 = 0\n",
        "      \n",
        "    for i in range(len(str1)):\n",
        "        if str1[i] >= \"0\" and str1[i] <= \"9\":\n",
        "            count1 += 1\n",
        "      \n",
        "    for i in range(len(str2)):\n",
        "        if str2[i] >= \"0\" and str2[i] <= \"9\":\n",
        "            count2 += 1\n",
        "      \n",
        "    return count1 == count2\n",
        "\n",
        "\n",
        "def obterModelo(name):\n",
        "  for model in obterModelos():    \n",
        "    if compare_strings(model[0], name): \n",
        "      return model[1]   \n",
        "     \n",
        "\n",
        "print(obterModelo('IrisModel11'))"
      ],
      "metadata": {
        "colab": {
          "base_uri": "https://localhost:8080/"
        },
        "id": "40EcxVJj0kTS",
        "outputId": "f645f9bf-1e2c-425f-8215-8bbdee1761ad"
      },
      "execution_count": 16,
      "outputs": [
        {
          "output_type": "stream",
          "name": "stdout",
          "text": [
            "QmX1z3MKF1nrnJoKHvbMETHyETBPYeW7GK2Xz6ByjGLwM2\n"
          ]
        }
      ]
    },
    {
      "cell_type": "code",
      "source": [
        "pip install requests"
      ],
      "metadata": {
        "colab": {
          "base_uri": "https://localhost:8080/"
        },
        "id": "oty3jVatSyJS",
        "outputId": "172c4489-23e4-4ee7-cb69-7cb657a6ee7a"
      },
      "execution_count": 17,
      "outputs": [
        {
          "output_type": "stream",
          "name": "stdout",
          "text": [
            "Looking in indexes: https://pypi.org/simple, https://us-python.pkg.dev/colab-wheels/public/simple/\n",
            "Requirement already satisfied: requests in /usr/local/lib/python3.8/dist-packages (2.23.0)\n",
            "Requirement already satisfied: certifi>=2017.4.17 in /usr/local/lib/python3.8/dist-packages (from requests) (2022.12.7)\n",
            "Requirement already satisfied: chardet<4,>=3.0.2 in /usr/local/lib/python3.8/dist-packages (from requests) (3.0.4)\n",
            "Requirement already satisfied: urllib3!=1.25.0,!=1.25.1,<1.26,>=1.21.1 in /usr/local/lib/python3.8/dist-packages (from requests) (1.24.3)\n",
            "Requirement already satisfied: idna<3,>=2.5 in /usr/local/lib/python3.8/dist-packages (from requests) (2.10)\n"
          ]
        }
      ]
    },
    {
      "cell_type": "code",
      "source": [
        "# Importe a biblioteca\n",
        "import requests\n",
        "\n",
        "api_key = \"9f6052849e81cca8eee4\"\n",
        "secret_api_key = \"1c35ddeb9ed231e7e610647f8d13bb74f52cf35bc36e3cc17ed96db5c9069534\"\n",
        "\n",
        "model_hash = obterModelo('IrisModel11')\n",
        "\n",
        "url = f'https://gateway.pinata.cloud/ipfs/{model_hash}'\n",
        "headers = {'pinata_api_key': api_key, 'pinata_secret_api_key': secret_api_key}\n",
        "response = requests.get(url, headers=headers)\n",
        "\n",
        "# Verifique se a solicitação foi bem-sucedida\n",
        "if response.status_code == 200:\n",
        "  with open('modelo.h5', 'wb') as f:\n",
        "    f.write(response.content)\n",
        "else:\n",
        "  print('Erro ao fazer o download do modelo:', response.text)\n",
        "\n",
        "\n",
        "loaded_model = pickle.load(open('modelo.h5', 'rb'))\n",
        "\n",
        "# new data to be classified\n",
        "#X_new = np.array([[5.1,3.5,1.4,0.2]])\n",
        "X_new = np.array([[1.1,2.5,2.4,1.2]])\n",
        "\n",
        "prediction = loaded_model.predict(X_new) \n",
        "print(prediction)\n",
        "\n",
        "current_time = datetime.now()  \n",
        "time_stamp = current_time.timestamp()\n",
        "date_time = datetime.fromtimestamp(time_stamp)\n",
        "print(\"The date and time is:\", date_time)\n",
        "\n",
        "enviarPredicao(str(prediction), str(date_time))"
      ],
      "metadata": {
        "colab": {
          "base_uri": "https://localhost:8080/"
        },
        "id": "KPOCu26pbpuM",
        "outputId": "75cf0917-7736-46eb-f37b-8d6ec83b1a83"
      },
      "execution_count": 18,
      "outputs": [
        {
          "output_type": "stream",
          "name": "stderr",
          "text": [
            "/usr/local/lib/python3.8/dist-packages/sklearn/base.py:450: UserWarning: X does not have valid feature names, but MLPClassifier was fitted with feature names\n",
            "  warnings.warn(\n"
          ]
        },
        {
          "output_type": "stream",
          "name": "stdout",
          "text": [
            "['Iris-versicolor']\n",
            "The date and time is: 2022-12-31 05:09:59.244034\n"
          ]
        }
      ]
    }
  ]
}